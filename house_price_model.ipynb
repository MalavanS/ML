{
 "cells": [
  {
   "cell_type": "code",
   "execution_count": null,
   "metadata": {},
   "outputs": [],
   "source": [
    "import pandas as pd \n",
    "df = pd.read_csv(\"boston.csv\")"
   ]
  },
  {
   "cell_type": "code",
   "execution_count": null,
   "metadata": {},
   "outputs": [],
   "source": [
    "#try to understand data\n",
    "print(df.shape)\n",
    "print(df.columns)\n",
    "print(df.describe())\n",
    "print(df.head(4))\n",
    "print(df.groupby('LotShape').size())\n",
    "print(df.info())"
   ]
  },
  {
   "cell_type": "code",
   "execution_count": null,
   "metadata": {},
   "outputs": [],
   "source": [
    "df_null = df.isnull().sum() #getting null value count on each columns and columns become index of this series\n",
    "# values & index of above series can be seen using below\n",
    "print(df_null.index)\n",
    "print(df_null.tolist())\n",
    "type(df_null)"
   ]
  },
  {
   "cell_type": "code",
   "execution_count": null,
   "metadata": {},
   "outputs": [],
   "source": [
    "cols_rem = df_null[df_null > 0.05*len(df_null)]"
   ]
  },
  {
   "cell_type": "code",
   "execution_count": null,
   "metadata": {},
   "outputs": [],
   "source": [
    "df = df.drop(cols_rem.index, axis=1)\n",
    "print(df.shape)"
   ]
  },
  {
   "cell_type": "code",
   "execution_count": null,
   "metadata": {},
   "outputs": [],
   "source": [
    "#replace null values in object data columns with most used value\n",
    "ls = df.select_dtypes(include=['object']).isnull().sum()\n",
    "for index in ls.index:\n",
    "    b1 = df[index].value_counts().index.tolist()\n",
    "    df[index] = df[index].fillna(b1[0])"
   ]
  },
  {
   "cell_type": "code",
   "execution_count": null,
   "metadata": {},
   "outputs": [],
   "source": [
    "#replace null values in integer and float data type columns with most used value\n",
    "numeric_nulls = df.select_dtypes(include=['integer','float']).isnull().sum()\n",
    "print(numeric_nulls)\n",
    "null_cols = numeric_nulls[numeric_nulls!=0].index\n",
    "print(null_cols)\n",
    "#df = df.fillna(df[null_cols].mode().to_dict(orient='records')[0]) - since there is no null values"
   ]
  },
  {
   "cell_type": "code",
   "execution_count": 61,
   "metadata": {},
   "outputs": [
    {
     "output_type": "stream",
     "name": "stdout",
     "text": "(1460, 63)\n"
    }
   ],
   "source": [
    "print(df.shape)"
   ]
  }
 ],
 "metadata": {
  "language_info": {
   "codemirror_mode": {
    "name": "ipython",
    "version": 3
   },
   "file_extension": ".py",
   "mimetype": "text/x-python",
   "name": "python",
   "nbconvert_exporter": "python",
   "pygments_lexer": "ipython3",
   "version": "3.7.4-final"
  },
  "orig_nbformat": 2,
  "kernelspec": {
   "name": "python3",
   "display_name": "Python 3"
  }
 },
 "nbformat": 4,
 "nbformat_minor": 2
}